{
 "metadata": {
  "name": "",
  "signature": "sha256:dd41fe627f6d767563c276a44e60c68959c6f2a12590d008fcb3f77dae5a8905"
 },
 "nbformat": 3,
 "nbformat_minor": 0,
 "worksheets": [
  {
   "cells": [
    {
     "cell_type": "markdown",
     "metadata": {},
     "source": [
      "# Experiment 2: Face reconstruction using a TSP Interpolated mean face.\n",
      "First, let's load all the data."
     ]
    },
    {
     "cell_type": "code",
     "collapsed": false,
     "input": [
      "# You have to import mlab before calling the matplotlib qt magic\n",
      "import mayavi.mlab as mlab"
     ],
     "language": "python",
     "metadata": {},
     "outputs": [
      {
       "output_type": "stream",
       "stream": "stderr",
       "text": [
        "WARNING:traits.has_traits:DEPRECATED: traits.has_traits.wrapped_class, 'the 'implements' class advisor has been deprecated. Use the 'provides' class decorator.\n"
       ]
      }
     ],
     "prompt_number": 1
    },
    {
     "cell_type": "markdown",
     "metadata": {},
     "source": [
      "## Setup the paths"
     ]
    },
    {
     "cell_type": "code",
     "collapsed": false,
     "input": [
      "from pathlib import Path\n",
      "\n",
      "photoface_base_path = Path('/Users/yiannis/Development/meng/data/photoface')\n",
      "photoface_image_path = Path(photoface_base_path, 'Intensities')\n",
      "photoface_landmark_path = Path(photoface_base_path, 'Landmarks/Global')"
     ],
     "language": "python",
     "metadata": {},
     "outputs": [],
     "prompt_number": 2
    },
    {
     "cell_type": "markdown",
     "metadata": {},
     "source": [
      "## Load the images and their landmarks"
     ]
    },
    {
     "cell_type": "code",
     "collapsed": false,
     "input": [
      "import menpo.io as mio\n",
      "\n",
      "# Create a function to find the landmarks\n",
      "def find_landmark(image):\n",
      "    filename = image.ioinfo.filename\n",
      "    return {'PTS': str(Path(photoface_landmark_path, filename + '.pts'))}\n",
      "\n",
      "# In alphabetical order B01->B10\n",
      "images = []\n",
      "for im in mio.import_images(str(photoface_image_path) + '/*', landmark_resolver=find_landmark, verbose=True):\n",
      "    im.crop_to_landmarks_inplace(boundary=20)\n",
      "    if im.n_channels > 1:\n",
      "        im = im.as_greyscale()\n",
      "    images.append(im)"
     ],
     "language": "python",
     "metadata": {},
     "outputs": [
      {
       "output_type": "stream",
       "stream": "stdout",
       "text": [
        "\r",
        "- Loading 100 assets: [                    ] 1%"
       ]
      },
      {
       "output_type": "stream",
       "stream": "stdout",
       "text": [
        "\r",
        "- Loading 100 assets: [                    ] 2%"
       ]
      },
      {
       "output_type": "stream",
       "stream": "stdout",
       "text": [
        "\r",
        "- Loading 100 assets: [                    ] 3%"
       ]
      },
      {
       "output_type": "stream",
       "stream": "stdout",
       "text": [
        "\r",
        "- Loading 100 assets: [                    ] 4%"
       ]
      },
      {
       "output_type": "stream",
       "stream": "stdout",
       "text": [
        "\r",
        "- Loading 100 assets: [=                   ] 5%"
       ]
      },
      {
       "output_type": "stream",
       "stream": "stdout",
       "text": [
        "\r",
        "- Loading 100 assets: [=                   ] 6%"
       ]
      },
      {
       "output_type": "stream",
       "stream": "stdout",
       "text": [
        "\r",
        "- Loading 100 assets: [=                   ] 7%"
       ]
      },
      {
       "output_type": "stream",
       "stream": "stdout",
       "text": [
        "\r",
        "- Loading 100 assets: [=                   ] 8%"
       ]
      },
      {
       "output_type": "stream",
       "stream": "stdout",
       "text": [
        "\r",
        "- Loading 100 assets: [=                   ] 9%"
       ]
      },
      {
       "output_type": "stream",
       "stream": "stdout",
       "text": [
        "\r",
        "- Loading 100 assets: [==                  ] 10%"
       ]
      },
      {
       "output_type": "stream",
       "stream": "stdout",
       "text": [
        "\r",
        "- Loading 100 assets: [==                  ] 11%"
       ]
      },
      {
       "output_type": "stream",
       "stream": "stdout",
       "text": [
        "\r",
        "- Loading 100 assets: [==                  ] 12%"
       ]
      },
      {
       "output_type": "stream",
       "stream": "stdout",
       "text": [
        "\r",
        "- Loading 100 assets: [==                  ] 13%"
       ]
      },
      {
       "output_type": "stream",
       "stream": "stdout",
       "text": [
        "\r",
        "- Loading 100 assets: [==                  ] 14%"
       ]
      },
      {
       "output_type": "stream",
       "stream": "stdout",
       "text": [
        "\r",
        "- Loading 100 assets: [===                 ] 15%"
       ]
      },
      {
       "output_type": "stream",
       "stream": "stdout",
       "text": [
        "\r",
        "- Loading 100 assets: [===                 ] 16%"
       ]
      },
      {
       "output_type": "stream",
       "stream": "stdout",
       "text": [
        "\r",
        "- Loading 100 assets: [===                 ] 17%"
       ]
      },
      {
       "output_type": "stream",
       "stream": "stdout",
       "text": [
        "\r",
        "- Loading 100 assets: [===                 ] 18%"
       ]
      },
      {
       "output_type": "stream",
       "stream": "stdout",
       "text": [
        "\r",
        "- Loading 100 assets: [===                 ] 19%"
       ]
      },
      {
       "output_type": "stream",
       "stream": "stdout",
       "text": [
        "\r",
        "- Loading 100 assets: [====                ] 20%"
       ]
      },
      {
       "output_type": "stream",
       "stream": "stdout",
       "text": [
        "\r",
        "- Loading 100 assets: [====                ] 21%"
       ]
      },
      {
       "output_type": "stream",
       "stream": "stdout",
       "text": [
        "\r",
        "- Loading 100 assets: [====                ] 22%"
       ]
      },
      {
       "output_type": "stream",
       "stream": "stdout",
       "text": [
        "\r",
        "- Loading 100 assets: [====                ] 23%"
       ]
      },
      {
       "output_type": "stream",
       "stream": "stdout",
       "text": [
        "\r",
        "- Loading 100 assets: [====                ] 24%"
       ]
      },
      {
       "output_type": "stream",
       "stream": "stdout",
       "text": [
        "\r",
        "- Loading 100 assets: [=====               ] 25%"
       ]
      },
      {
       "output_type": "stream",
       "stream": "stdout",
       "text": [
        "\r",
        "- Loading 100 assets: [=====               ] 26%"
       ]
      },
      {
       "output_type": "stream",
       "stream": "stdout",
       "text": [
        "\r",
        "- Loading 100 assets: [=====               ] 27%"
       ]
      },
      {
       "output_type": "stream",
       "stream": "stdout",
       "text": [
        "\r",
        "- Loading 100 assets: [=====               ] 28%"
       ]
      },
      {
       "output_type": "stream",
       "stream": "stdout",
       "text": [
        "\r",
        "- Loading 100 assets: [=====               ] 28%"
       ]
      },
      {
       "output_type": "stream",
       "stream": "stdout",
       "text": [
        "\r",
        "- Loading 100 assets: [======              ] 30%"
       ]
      },
      {
       "output_type": "stream",
       "stream": "stdout",
       "text": [
        "\r",
        "- Loading 100 assets: [======              ] 31%"
       ]
      },
      {
       "output_type": "stream",
       "stream": "stdout",
       "text": [
        "\r",
        "- Loading 100 assets: [======              ] 32%"
       ]
      },
      {
       "output_type": "stream",
       "stream": "stdout",
       "text": [
        "\r",
        "- Loading 100 assets: [======              ] 33%"
       ]
      },
      {
       "output_type": "stream",
       "stream": "stdout",
       "text": [
        "\r",
        "- Loading 100 assets: [======              ] 34%"
       ]
      },
      {
       "output_type": "stream",
       "stream": "stdout",
       "text": [
        "\r",
        "- Loading 100 assets: [=======             ] 35%"
       ]
      },
      {
       "output_type": "stream",
       "stream": "stdout",
       "text": [
        "\r",
        "- Loading 100 assets: [=======             ] 36%"
       ]
      },
      {
       "output_type": "stream",
       "stream": "stdout",
       "text": [
        "\r",
        "- Loading 100 assets: [=======             ] 37%"
       ]
      },
      {
       "output_type": "stream",
       "stream": "stdout",
       "text": [
        "\r",
        "- Loading 100 assets: [=======             ] 38%"
       ]
      },
      {
       "output_type": "stream",
       "stream": "stdout",
       "text": [
        "\r",
        "- Loading 100 assets: [=======             ] 39%"
       ]
      },
      {
       "output_type": "stream",
       "stream": "stdout",
       "text": [
        "\r",
        "- Loading 100 assets: [========            ] 40%"
       ]
      },
      {
       "output_type": "stream",
       "stream": "stdout",
       "text": [
        "\r",
        "- Loading 100 assets: [========            ] 41%"
       ]
      },
      {
       "output_type": "stream",
       "stream": "stdout",
       "text": [
        "\r",
        "- Loading 100 assets: [========            ] 42%"
       ]
      },
      {
       "output_type": "stream",
       "stream": "stdout",
       "text": [
        "\r",
        "- Loading 100 assets: [========            ] 43%"
       ]
      },
      {
       "output_type": "stream",
       "stream": "stdout",
       "text": [
        "\r",
        "- Loading 100 assets: [========            ] 44%"
       ]
      },
      {
       "output_type": "stream",
       "stream": "stdout",
       "text": [
        "\r",
        "- Loading 100 assets: [=========           ] 45%"
       ]
      },
      {
       "output_type": "stream",
       "stream": "stdout",
       "text": [
        "\r",
        "- Loading 100 assets: [=========           ] 46%"
       ]
      },
      {
       "output_type": "stream",
       "stream": "stdout",
       "text": [
        "\r",
        "- Loading 100 assets: [=========           ] 47%"
       ]
      },
      {
       "output_type": "stream",
       "stream": "stdout",
       "text": [
        "\r",
        "- Loading 100 assets: [=========           ] 48%"
       ]
      },
      {
       "output_type": "stream",
       "stream": "stdout",
       "text": [
        "\r",
        "- Loading 100 assets: [=========           ] 49%"
       ]
      },
      {
       "output_type": "stream",
       "stream": "stdout",
       "text": [
        "\r",
        "- Loading 100 assets: [==========          ] 50%"
       ]
      },
      {
       "output_type": "stream",
       "stream": "stdout",
       "text": [
        "\r",
        "- Loading 100 assets: [==========          ] 51%"
       ]
      },
      {
       "output_type": "stream",
       "stream": "stdout",
       "text": [
        "\r",
        "- Loading 100 assets: [==========          ] 52%"
       ]
      },
      {
       "output_type": "stream",
       "stream": "stdout",
       "text": [
        "\r",
        "- Loading 100 assets: [==========          ] 53%"
       ]
      },
      {
       "output_type": "stream",
       "stream": "stdout",
       "text": [
        "\r",
        "- Loading 100 assets: [==========          ] 54%"
       ]
      },
      {
       "output_type": "stream",
       "stream": "stdout",
       "text": [
        "\r",
        "- Loading 100 assets: [===========         ] 55%"
       ]
      },
      {
       "output_type": "stream",
       "stream": "stdout",
       "text": [
        "\r",
        "- Loading 100 assets: [===========         ] 56%"
       ]
      },
      {
       "output_type": "stream",
       "stream": "stdout",
       "text": [
        "\r",
        "- Loading 100 assets: [===========         ] 56%"
       ]
      },
      {
       "output_type": "stream",
       "stream": "stdout",
       "text": [
        "\r",
        "- Loading 100 assets: [===========         ] 57%"
       ]
      },
      {
       "output_type": "stream",
       "stream": "stdout",
       "text": [
        "\r",
        "- Loading 100 assets: [===========         ] 59%"
       ]
      },
      {
       "output_type": "stream",
       "stream": "stdout",
       "text": [
        "\r",
        "- Loading 100 assets: [============        ] 60%"
       ]
      },
      {
       "output_type": "stream",
       "stream": "stdout",
       "text": [
        "\r",
        "- Loading 100 assets: [============        ] 61%"
       ]
      },
      {
       "output_type": "stream",
       "stream": "stdout",
       "text": [
        "\r",
        "- Loading 100 assets: [============        ] 62%"
       ]
      },
      {
       "output_type": "stream",
       "stream": "stdout",
       "text": [
        "\r",
        "- Loading 100 assets: [============        ] 63%"
       ]
      },
      {
       "output_type": "stream",
       "stream": "stdout",
       "text": [
        "\r",
        "- Loading 100 assets: [============        ] 64%"
       ]
      },
      {
       "output_type": "stream",
       "stream": "stdout",
       "text": [
        "\r",
        "- Loading 100 assets: [=============       ] 65%"
       ]
      },
      {
       "output_type": "stream",
       "stream": "stdout",
       "text": [
        "\r",
        "- Loading 100 assets: [=============       ] 66%"
       ]
      },
      {
       "output_type": "stream",
       "stream": "stdout",
       "text": [
        "\r",
        "- Loading 100 assets: [=============       ] 67%"
       ]
      },
      {
       "output_type": "stream",
       "stream": "stdout",
       "text": [
        "\r",
        "- Loading 100 assets: [=============       ] 68%"
       ]
      },
      {
       "output_type": "stream",
       "stream": "stdout",
       "text": [
        "\r",
        "- Loading 100 assets: [=============       ] 69%"
       ]
      },
      {
       "output_type": "stream",
       "stream": "stdout",
       "text": [
        "\r",
        "- Loading 100 assets: [==============      ] 70%"
       ]
      },
      {
       "output_type": "stream",
       "stream": "stdout",
       "text": [
        "\r",
        "- Loading 100 assets: [==============      ] 71%"
       ]
      },
      {
       "output_type": "stream",
       "stream": "stdout",
       "text": [
        "\r",
        "- Loading 100 assets: [==============      ] 72%"
       ]
      },
      {
       "output_type": "stream",
       "stream": "stdout",
       "text": [
        "\r",
        "- Loading 100 assets: [==============      ] 73%"
       ]
      },
      {
       "output_type": "stream",
       "stream": "stdout",
       "text": [
        "\r",
        "- Loading 100 assets: [==============      ] 74%"
       ]
      },
      {
       "output_type": "stream",
       "stream": "stdout",
       "text": [
        "\r",
        "- Loading 100 assets: [===============     ] 75%"
       ]
      },
      {
       "output_type": "stream",
       "stream": "stdout",
       "text": [
        "\r",
        "- Loading 100 assets: [===============     ] 76%"
       ]
      },
      {
       "output_type": "stream",
       "stream": "stdout",
       "text": [
        "\r",
        "- Loading 100 assets: [===============     ] 77%"
       ]
      },
      {
       "output_type": "stream",
       "stream": "stdout",
       "text": [
        "\r",
        "- Loading 100 assets: [===============     ] 78%"
       ]
      },
      {
       "output_type": "stream",
       "stream": "stdout",
       "text": [
        "\r",
        "- Loading 100 assets: [===============     ] 79%"
       ]
      },
      {
       "output_type": "stream",
       "stream": "stdout",
       "text": [
        "\r",
        "- Loading 100 assets: [================    ] 80%"
       ]
      },
      {
       "output_type": "stream",
       "stream": "stdout",
       "text": [
        "\r",
        "- Loading 100 assets: [================    ] 81%"
       ]
      },
      {
       "output_type": "stream",
       "stream": "stdout",
       "text": [
        "\r",
        "- Loading 100 assets: [================    ] 82%"
       ]
      },
      {
       "output_type": "stream",
       "stream": "stdout",
       "text": [
        "\r",
        "- Loading 100 assets: [================    ] 83%"
       ]
      },
      {
       "output_type": "stream",
       "stream": "stdout",
       "text": [
        "\r",
        "- Loading 100 assets: [================    ] 84%"
       ]
      },
      {
       "output_type": "stream",
       "stream": "stdout",
       "text": [
        "\r",
        "- Loading 100 assets: [=================   ] 85%"
       ]
      },
      {
       "output_type": "stream",
       "stream": "stdout",
       "text": [
        "\r",
        "- Loading 100 assets: [=================   ] 86%"
       ]
      },
      {
       "output_type": "stream",
       "stream": "stdout",
       "text": [
        "\r",
        "- Loading 100 assets: [=================   ] 87%"
       ]
      },
      {
       "output_type": "stream",
       "stream": "stdout",
       "text": [
        "\r",
        "- Loading 100 assets: [=================   ] 88%"
       ]
      },
      {
       "output_type": "stream",
       "stream": "stdout",
       "text": [
        "\r",
        "- Loading 100 assets: [=================   ] 89%"
       ]
      },
      {
       "output_type": "stream",
       "stream": "stdout",
       "text": [
        "\r",
        "- Loading 100 assets: [==================  ] 90%"
       ]
      },
      {
       "output_type": "stream",
       "stream": "stdout",
       "text": [
        "\r",
        "- Loading 100 assets: [==================  ] 91%"
       ]
      },
      {
       "output_type": "stream",
       "stream": "stdout",
       "text": [
        "\r",
        "- Loading 100 assets: [==================  ] 92%"
       ]
      },
      {
       "output_type": "stream",
       "stream": "stdout",
       "text": [
        "\r",
        "- Loading 100 assets: [==================  ] 93%"
       ]
      },
      {
       "output_type": "stream",
       "stream": "stdout",
       "text": [
        "\r",
        "- Loading 100 assets: [==================  ] 94%"
       ]
      },
      {
       "output_type": "stream",
       "stream": "stdout",
       "text": [
        "\r",
        "- Loading 100 assets: [=================== ] 95%"
       ]
      },
      {
       "output_type": "stream",
       "stream": "stdout",
       "text": [
        "\r",
        "- Loading 100 assets: [=================== ] 96%"
       ]
      },
      {
       "output_type": "stream",
       "stream": "stdout",
       "text": [
        "\r",
        "- Loading 100 assets: [=================== ] 97%"
       ]
      },
      {
       "output_type": "stream",
       "stream": "stdout",
       "text": [
        "\r",
        "- Loading 100 assets: [=================== ] 98%"
       ]
      },
      {
       "output_type": "stream",
       "stream": "stdout",
       "text": [
        "\r",
        "- Loading 100 assets: [=================== ] 99%"
       ]
      },
      {
       "output_type": "stream",
       "stream": "stdout",
       "text": [
        "\r",
        "- Loading 100 assets: [====================] 100%"
       ]
      }
     ],
     "prompt_number": 3
    },
    {
     "cell_type": "markdown",
     "metadata": {},
     "source": [
      "## Load the lighting vectors"
     ]
    },
    {
     "cell_type": "code",
     "collapsed": false,
     "input": [
      "# Convert from spherical to cartesian coordinates\n",
      "def sph2cart(azimuth, elevation, r, theta_origin='xy'):\n",
      "    \"\"\"\n",
      "    theta_origin : {'xy', 'z'}\n",
      "        Defines where to take the 0 value for the elevation angle, theta. xy\n",
      "        implies the origin is at the xy-plane and and 90 is at the z-axis.\n",
      "        z implies that the origin is at the z-axis and 90 is at the xy-plane.\n",
      "    \"\"\"\n",
      "    azi_cos = np.cos(azimuth)\n",
      "    ele_cos = np.cos(elevation)\n",
      "    azi_sin = np.sin(azimuth)\n",
      "    ele_sin = np.sin(elevation)\n",
      "\n",
      "    if theta_origin == 'xy':\n",
      "        cart = np.concatenate([(r * ele_cos * azi_cos)[..., None],\n",
      "                               (r * ele_cos * azi_sin)[..., None],\n",
      "                               (r * ele_sin)[..., None]], axis=-1)\n",
      "    elif theta_origin == 'z':\n",
      "        cart = np.concatenate([(r * ele_sin * azi_cos)[..., None],\n",
      "                               (r * ele_sin * azi_sin)[..., None],\n",
      "                               (r * ele_cos)[..., None]], axis=-1)\n",
      "    else:\n",
      "        raise ValueError('Unknown value for the theta origin, valid values '\n",
      "                         'are: xy, z')\n",
      "    return cart"
     ],
     "language": "python",
     "metadata": {},
     "outputs": [],
     "prompt_number": 4
    },
    {
     "cell_type": "code",
     "collapsed": false,
     "input": [
      "import numpy as np\n",
      "\n",
      "# load the lighting directions for all the images (4 light vectors per face)\n",
      "lights = np.zeros([len(images)/4, 4, 3])\n",
      "session_count = 0\n",
      "\n",
      "for d in filter(lambda x: x.is_dir(), sorted(photoface_base_path.iterdir())):  # Loop over each subject folder\n",
      "    for p in filter(lambda x: x.is_dir(), sorted(d.iterdir())):  # Loop over each session folder\n",
      "        light_path = Path(p, 'lights.csv')\n",
      "        if light_path.exists():  # Check if we have lights for this session\n",
      "            # Load the lights CSV\n",
      "            light_angles = np.loadtxt(str(light_path), delimiter=',')\n",
      "            # Convert from spherical to cartesian coordinates in radians\n",
      "            light_vector = sph2cart(np.radians(light_angles[:, 0]),\n",
      "                                    np.radians(light_angles[:, 1]),\n",
      "                                    np.ones_like(light_angles[:, 1]), theta_origin='z')\n",
      "            # Fill up the lights array\n",
      "            lights[session_count, :, :] = light_vector\n",
      "            session_count += 1"
     ],
     "language": "python",
     "metadata": {},
     "outputs": [],
     "prompt_number": 5
    },
    {
     "cell_type": "heading",
     "level": 2,
     "metadata": {},
     "source": [
      "Let's choose and see the face we will be reconstructing"
     ]
    },
    {
     "cell_type": "code",
     "collapsed": false,
     "input": [
      "%matplotlib inline\n",
      "subject_face = 9\n",
      "images[subject_face*4+3].view_new()\n"
     ],
     "language": "python",
     "metadata": {},
     "outputs": [
      {
       "metadata": {},
       "output_type": "pyout",
       "prompt_number": 6,
       "text": [
        "<menpo.visualize.viewmatplotlib.MatplotlibImageViewer2d at 0x123d03e50>"
       ]
      },
      {
       "metadata": {},
       "output_type": "display_data",
       "png": "[encoded data removed]",
       "text": [
        "<matplotlib.figure.Figure at 0x123d03f10>"
       ]
      }
     ],
     "prompt_number": 6
    },
    {
     "cell_type": "heading",
     "level": 2,
     "metadata": {},
     "source": [
      "Let's Generate the mean face"
     ]
    },
    {
     "cell_type": "heading",
     "level": 4,
     "metadata": {},
     "source": [
      "(we will be using Photometric Stereo and PCA)"
     ]
    },
    {
     "cell_type": "code",
     "collapsed": false,
     "input": [
      "def normalise_vector(v):\n",
      "    return v / np.sqrt(np.sum(v ** 2, axis=-1))[..., None]"
     ],
     "language": "python",
     "metadata": {},
     "outputs": [],
     "prompt_number": 7
    },
    {
     "cell_type": "code",
     "collapsed": false,
     "input": [
      "import collections\n",
      "import scipy.linalg as la\n",
      "from menpo.image import Image\n",
      "    \n",
      "def photometric_stereo(images, lights):\n",
      "    \"\"\"\n",
      "    `images` is a 3 or more channel image representing the same object taken\n",
      "    under different lighting conditions or a list of images. \n",
      "    \n",
      "    Lights is a n_channels x 3 matrix that\n",
      "    represents the direction from which each image is lit.\n",
      "\n",
      "    Only the masked pixels are recovered.\n",
      "\n",
      "    Parameters\n",
      "    ----------\n",
      "    images : (M, N, C) :class:`MaskedNDImage` or list of MaskedImage\n",
      "        An image where each channel is an image lit under a unique lighting\n",
      "        direction.\n",
      "    lights : (C, 3) ndarray\n",
      "        A matrix representing the light directions for each of the channels in\n",
      "        ``images``.\n",
      "\n",
      "    Returns\n",
      "    -------\n",
      "    normal_image : (M, N, 3) :class:`pybug.image.MaskedNDImage`\n",
      "        A 3-channel image representing the components of the recovered normals.\n",
      "    albedo_image : (M, N, 1) :class:`pybug.image.MaskedNDImage`\n",
      "        A 1-channel image representing the albedo at each pixel.\n",
      "    \"\"\"\n",
      "    if isinstance(images, collections.Iterable):\n",
      "        images = Image(np.concatenate([im.pixels for im in images], axis=-1))\n",
      "\n",
      "    # Ensure the light are unit vectors\n",
      "    lights = normalise_vector(lights)\n",
      "\n",
      "    # n_masked_pixels x n_channels\n",
      "    pixels = images.as_vector(keep_channels=True)\n",
      "    n_images = pixels.shape[1]\n",
      "\n",
      "    if n_images < 3:\n",
      "        raise ValueError('Photometric Stereo is undefined with less than 3 '\n",
      "                         'input images.')\n",
      "    if lights.shape[0] != n_images:\n",
      "        raise ValueError('You must provide a light direction for each input '\n",
      "                         'channel.')\n",
      "\n",
      "    normals = np.dot(pixels, la.pinv(lights).T)\n",
      "    magnitudes = np.sqrt((normals * normals).sum(axis=1))\n",
      "    albedo = magnitudes\n",
      "    normals[magnitudes != 0.0, :] /= magnitudes[magnitudes != 0.0][..., None]\n",
      "                    \n",
      "    return (images.from_vector(normals, n_channels=3),\n",
      "            images.from_vector(albedo, n_channels=1))"
     ],
     "language": "python",
     "metadata": {},
     "outputs": [],
     "prompt_number": 8
    },
    {
     "cell_type": "heading",
     "level": 3,
     "metadata": {},
     "source": [
      "We produce 3D reconstructions for all our faces except the subject's face"
     ]
    },
    {
     "cell_type": "markdown",
     "metadata": {},
     "source": [
      "we use TSP Interpolated images to reconstruct using Photometric Stereo"
     ]
    },
    {
     "cell_type": "code",
     "collapsed": false,
     "input": [
      "from menpo.transform import ThinPlateSplines\n",
      "import os,sys\n",
      "sys.path.insert(0, os.path.join(os.path.dirname(\".\"), 'meng'))\n",
      "from meng import frankotchellappa\n",
      "from menpo.landmark import ibug_68_closed_mouth, labeller\n",
      "import matplotlib.pyplot as plt\n",
      "\n",
      "n_faces = len(images)/4\n",
      "N = subject_face\n",
      "im0 = images[N*4+3].copy()\n",
      "im0 = labeller(im0, 'PTS', ibug_68_closed_mouth)\n",
      "im0.crop_to_landmarks_inplace(group=\"ibug_68_closed_mouth\")\n",
      "im0 = im0.resize((300,300))\n",
      "\n",
      "recovered_depth = []\n",
      "albedos = []\n",
      "normals_v = []\n",
      "faces_used = []\n",
      "for face in range(n_faces):\n",
      "    # we load 4 images per person \n",
      "    ps_images = [images[face*4+i].resize((300,300)) for i in range(4)]\n",
      "    ps_images = [labeller(img, 'PTS', ibug_68_closed_mouth) for img in ps_images]\n",
      "    # we interpolate the images\n",
      "    for i in range(4):\n",
      "        ps_images[i].crop_to_landmarks_inplace(group=\"ibug_68_closed_mouth\")\n",
      "        align_affine = ThinPlateSplines(im0.landmarks['ibug_68_closed_mouth'].lms,\n",
      "                                       ps_images[i].landmarks['ibug_68_closed_mouth'].lms)\n",
      "        ps_images[i] = ps_images[i].warp_to(im0.mask,align_affine)\n",
      "    l = lights[face, :, :].copy()\n",
      "    l[:, [0, 1]] = l[:, [1, 0]]\n",
      "    l[:, 0] *= -1\n",
      "    # we reconstruct the normals and albedo using PS\n",
      "    normals, albedo = photometric_stereo(ps_images, l)\n",
      "    n = normals\n",
      "    # we integrate using frankot & chellapa's algorithm to recover shape\n",
      "    ps_Z = frankotchellappa(-n.pixels[:, :, 0], n.pixels[:, :, 1])/1.7\n",
      "    if face == N:\n",
      "        gt_Z=ps_Z\n",
      "        continue\n",
      "    albedos.append(albedo)\n",
      "    normals_v.append(normals)\n",
      "    faces_used.append(face)\n",
      "    recovered_depth.append(ps_Z)"
     ],
     "language": "python",
     "metadata": {},
     "outputs": [],
     "prompt_number": 9
    },
    {
     "cell_type": "heading",
     "level": 3,
     "metadata": {},
     "source": [
      "Let's see the PS Reconstructed Shape (Ground Truth)"
     ]
    },
    {
     "cell_type": "code",
     "collapsed": false,
     "input": [
      "%matplotlib inline\n",
      "plt.axis('off')\n",
      "plt.gray()\n",
      "plt.imshow(gt_Z)\n",
      "plt.show()"
     ],
     "language": "python",
     "metadata": {},
     "outputs": [
      {
       "metadata": {},
       "output_type": "display_data",
       "png": "[encoded data removed]",
       "text": [
        "<matplotlib.figure.Figure at 0x123d1e990>"
       ]
      }
     ],
     "prompt_number": 10
    },
    {
     "cell_type": "heading",
     "level": 3,
     "metadata": {},
     "source": [
      "Calculating the mean face (depth, albedo, normals)"
     ]
    },
    {
     "cell_type": "code",
     "collapsed": false,
     "input": [
      "from menpo.model import PCAModel\n",
      "from menpo.image import Image\n",
      "\n",
      "depth_images = [Image(depth) for depth in recovered_depth]\n",
      "\n",
      "depth_mean = PCAModel(depth_images).mean\n",
      "albedo_mean = PCAModel(albedos).mean\n",
      "normals_mean = PCAModel(normals_v).mean"
     ],
     "language": "python",
     "metadata": {},
     "outputs": [],
     "prompt_number": 11
    },
    {
     "cell_type": "markdown",
     "metadata": {},
     "source": [
      "## Recovering the light vector\n",
      "Let's try recover the lighting vector given the normals we just calculated"
     ]
    },
    {
     "cell_type": "markdown",
     "metadata": {},
     "source": [
      "We need to solve the following problem:\n",
      "$$\n",
      "\\min_{l} \\sum_{(x,y) \\in \\Omega} \\left( I(x,y) - \\rho_{ref}(x,y) l^T \\hat{n}_{ref}(x,y) \\right)^2\n",
      "$$\n",
      "\n",
      "\n",
      " where $\\hat{n} = (1, n_x, n_y, n_z)^T$"
     ]
    },
    {
     "cell_type": "heading",
     "level": 2,
     "metadata": {},
     "source": [
      "In vector form"
     ]
    },
    {
     "cell_type": "markdown",
     "metadata": {},
     "source": [
      "$$\n",
      "|| \\vec{i} - \\vec{\\rho}_{ref}\\circ  N_{ref}^T \\cdot \\vec{l} || ^2\n",
      "$$"
     ]
    },
    {
     "cell_type": "markdown",
     "metadata": {},
     "source": [
      "where $N_{ref}^T$ is represented by the following matrix:\n",
      "$$\n",
      "\\begin{pmatrix}\n",
      "    1 & n^x_1 & n^y_1 & n^z_1 \\\\\n",
      "    \\vdots & \\vdots & \\vdots & \\vdots \\\\\n",
      "    1 & n^x_N & n^y_N & n^z_N\n",
      "\\end{pmatrix}\n",
      "$$\n",
      "\n",
      "$\\vec{i}$ and $\\vec{\\rho}_{ref}$ are the intensity and albedo matrices as column vectors"
     ]
    },
    {
     "cell_type": "markdown",
     "metadata": {},
     "source": [
      "Of which the solution can be found using the pseudo-inverse:\n",
      "$$\n",
      "\\vec{l} = (\\rho_{ref} \\circ {N}^T_{ref})^+ \\vec{i}\n",
      "$$"
     ]
    },
    {
     "cell_type": "code",
     "collapsed": false,
     "input": [
      "def estimate_light(image, normals, albedo):\n",
      "    I = image.pixels.ravel()\n",
      "    n_vector = np.concatenate([np.ones_like(normals.pixels[..., 0].ravel())[..., None],\n",
      "                               normals.pixels[..., 0].ravel()[..., None],\n",
      "                               normals.pixels[..., 1].ravel()[..., None],\n",
      "                               normals.pixels[..., 2].ravel()[..., None]], axis=-1)\n",
      "    albedo_vector = albedo.pixels.ravel()\n",
      "\n",
      "    c0 = 1.0 / np.sqrt(4 * np.pi)\n",
      "    c1 = np.sqrt(3.0 / (4.0 * np.pi))\n",
      "    c = np.array([[c0, c1, c1, c1]])\n",
      "    \n",
      "    a0 = np.pi\n",
      "    a1 = 2.0 * np.pi / np.sqrt(3.0)\n",
      "    a = np.array([[a0, a1, a1, a1]])\n",
      "\n",
      "    nprime = la.pinv2(albedo_vector[..., None] * n_vector * c * a)\n",
      "    return np.dot(nprime, I)\n",
      "\n",
      "def normalize_harmonics(light):\n",
      "    light_vector = light[-3:] + light[0]\n",
      "    light_vector = normalise_vector(light_vector)\n",
      "    return light_vector"
     ],
     "language": "python",
     "metadata": {},
     "outputs": [],
     "prompt_number": 12
    },
    {
     "cell_type": "code",
     "collapsed": false,
     "input": [
      "recovered_harmonics = estimate_light(im0, normals_mean, albedo_mean)"
     ],
     "language": "python",
     "metadata": {},
     "outputs": [],
     "prompt_number": 13
    },
    {
     "cell_type": "markdown",
     "metadata": {},
     "source": [
      "## Recovering Shape"
     ]
    },
    {
     "cell_type": "markdown",
     "metadata": {},
     "source": [
      "As given in the paper:\n",
      "$$\n",
      "I = \\rho_{ref} l_0 + \\frac{\\rho_{ref}}{N_{ref}}(l_1z(x+1,y)-l_1z(x,y) + l_2z(x,y+1) - l_2z(x,y) -l_3)\n",
      "$$\n",
      "Re-written to represent point intensity\n",
      "$$\n",
      "I(x,y) = \\rho_{ref}(x,y) l_0 + \\frac{\\rho_{ref}(x,y)}{N_{ref}(x,y)}(l_1z(x+1,y)-l_1z(x,y) + l_2z(x,y+1) - l_2z(x,y) -l_3)\n",
      "$$\n",
      "\n",
      "Where:\n",
      "- $I(x,y)$ is the intensity at a single point\n",
      "- $\\rho_{ref}(x,y)$ the albedo at a point\n",
      "- $N_{ref}$ is the matrix of the normals\n",
      "- $z(x,y)$ is the depth map value of the point\n",
      "- $l_0,l_1,l_2,l_3$ are spherical harmonic light coefficients estimated in the previous step\n",
      "\n"
     ]
    },
    {
     "cell_type": "heading",
     "level": 2,
     "metadata": {},
     "source": [
      "In Vector Form"
     ]
    },
    {
     "cell_type": "markdown",
     "metadata": {},
     "source": [
      "$$\n",
      "\\vec{i} =  l_0\\times \\vec{\\rho}_{ref} + \\frac{\\vec{\\rho}_{ref}}{N_{ref}}\\circ(l_1 \\times D_1\\cdot \\vec{z}  + l_2 \\times D_2\\cdot  \\vec{z} -l_3)\n",
      "$$\n",
      "\n",
      "Where :\n",
      "\n",
      "- $\\vec{i}$ is the image as a row vector\n",
      "\n",
      "- $\\vec{\\rho}_{ref}$ is a row vector containing the albedos\n",
      "- $\\vec{z}$ is the depth map as a row vector\n",
      "- $D_1$ is the following $F\\times F$ matrix:\n",
      "\\begin{pmatrix}\n",
      "    -1     & 1      & 0      & 0      & \\ldots & 0 \\\\\n",
      "    0      & -1     & 1      & 0      & \\ldots & 0\\\\\n",
      "    \\vdots &\\ldots  & \\ddots & \\ddots & \\ldots & \\vdots\\\\\n",
      "    \\vdots &\\ldots  & \\ldots & \\ddots & \\ddots & \\vdots\\\\\n",
      "    \\vdots & 0      & \\ldots & 0      & -1 & 1 \\\\\n",
      "    0      & 0      & 0      & \\ldots & 0 & -1\\\\\n",
      "\\end{pmatrix}\n",
      "- $D_2$ is the following $F\\times F$ matrix:\n",
      "\\begin{pmatrix}\n",
      "    -1     & 0      & \\ldots & 1      & \\ldots & 0 \\\\\n",
      "    0      & -1     & 0      & \\ldots & 1      & \\vdots  \\\\\n",
      "    0      & \\ldots & \\ddots & 0      & \\ldots & \\ddots   \\\\\n",
      "    \\vdots & \\ldots & \\ldots & \\ddots & \\ldots & \\vdots   \\\\\n",
      "    \\vdots & \\ldots & \\ldots & 0      & -1     & 0   \\\\\n",
      "    0      & 0      & 0      & \\ldots      & 0 & -1\\\\\n",
      "\\end{pmatrix}\n",
      "\n",
      "\n",
      "Where the distance between $-1$ and $1$ in every row is equal to the width of the image $w$\n",
      "\n"
     ]
    },
    {
     "cell_type": "heading",
     "level": 2,
     "metadata": {},
     "source": [
      "Rearranging the equation"
     ]
    },
    {
     "cell_type": "markdown",
     "metadata": {},
     "source": [
      "Rearranging:\n",
      "$$\n",
      "(\\frac{\\vec{\\rho}_{ref}}{N_{ref}})^{-1} \\circ \\vec{i} =\n",
      "l_0\\times (\\frac{\\vec{\\rho}_{ref}}{N_{ref}})^{-1} \\vec{\\rho}_{ref} \n",
      "+ (\\frac{\\vec{\\rho}_{ref}}{N_{ref}})^{-1}\\circ\\frac{\\vec{\\rho}_{ref}}{N_{ref}}\n",
      "\\circ(l_1 \\times D_1\\cdot \\vec{z}  + l_2 \\times D_2\\cdot  \\vec{z} -l_3)\n",
      "$$\n",
      "\n",
      "$$\n",
      "(\\frac{\\vec{\\rho}_{ref}}{N_{ref}})^{-1} \\vec{i} = N_{ref} l_0  + (l_1 \\times D_1\\cdot \\vec{z}  + l_2 \\times D_2\\cdot  \\vec{z} -l_3)\n",
      "$$\n",
      "\n",
      "Substituting $\\frac{\\rho_{ref}}{N_{ref}}$ for C\n",
      "$$\n",
      "C^{-1} \\vec{i} = N_{ref} l_0  + (l_1 \\times D_1\\cdot \\vec{z}  + l_2 \\times D_2\\cdot  \\vec{z} -l_3)\n",
      "$$\n",
      "\n",
      "$$\n",
      "C^{-1} \\vec{i} - N_{ref} l_0 + l_3 = (l_1 \\times D_1  + l_2 \\times D_2)\\cdot  \\vec{z} \n",
      "$$\n",
      "Substituting  $C^{-1} \\circ \\vec{i}  - (N_{ref} \\times l_0   +  l_3) $ for $\\vec{a}$ and $l_1\\times  D_1 + l_2\\times D_2$ for B we have:\n",
      "\n",
      "$$\n",
      "\\vec{a} = B \\cdot \\vec{z}\n",
      "$$\n",
      "\n",
      "Of which the solutions can be found by solving the following optimization problem:\n",
      "\n",
      "$$\n",
      "||\\vec{a}-B\\vec{z}||_F^2\n",
      "$$\n",
      "\n"
     ]
    },
    {
     "cell_type": "heading",
     "level": 2,
     "metadata": {},
     "source": [
      "Incorporating the Regularization Term"
     ]
    },
    {
     "cell_type": "markdown",
     "metadata": {},
     "source": [
      "We need to contrain our problem that the difference between the estimated depth map and the depth map of the reference model are minimum\n",
      "\n",
      "$$\n",
      "\\lambda_1(\\vec{z}-G*\\vec{z}) = \\lambda_1(\\vec{z}_{ref}-G*\\vec{z}_{ref})\n",
      "$$\n",
      "\n",
      "This can be reduced to:\n",
      "\n",
      "$$\n",
      "\\lambda_1D\\vec{z} = \\lambda_1D\\vec{z}_{ref}\n",
      "$$\n",
      "\n",
      "Where $z_{ref}$ is the depth map of the reference model and $D$ is a gaussian filter on a $3\\times 3$ kernel. The gaussian function is defined as: \n",
      "$$\n",
      "G(x,y) = \\frac{1}{2\\pi\\sigma^2}e^{-\\frac{x^2+y^2}{2\\sigma^2}}\n",
      "$$"
     ]
    },
    {
     "cell_type": "heading",
     "level": 2,
     "metadata": {},
     "source": [
      "Combining the two"
     ]
    },
    {
     "cell_type": "markdown",
     "metadata": {},
     "source": [
      "Combining the two we get the following problem to be solved:\n",
      "$$\n",
      "||\\vec{a} -B\\vec{z}||_F^2 + ||D\\vec{z}_{ref} - D\\vec{z}||_F^2\n",
      "$$\n",
      "\n",
      "$$\n",
      "||(B^Ta + D^TD\\vec{z}_{ref}) - (B^TB + D^TD)\\vec{z} ||_F^2\n",
      "$$\n",
      "\n",
      "Let $X= B^TB + D^TD$: and $Y = B^Ta + D^TD\\vec{z}_{ref}$ \n",
      "\n",
      "$$\n",
      "||Y - X\\vec{z}||_F^2\n",
      "$$\n",
      "\n",
      "And the solution is given by:\n",
      "\n",
      "$$\n",
      "\\vec{z} = X^{+}Y\n",
      "$$\n",
      "\n",
      "Where:\n",
      "\n",
      "- $ B = l_1\\times  D_1 + l_2\\times D_2$\n",
      "- $\\vec{a} = C^{-1} \\circ \\vec{i}  - (N_{ref} \\times l_0   +  l_3)$\n",
      "- $C = \\frac{\\rho_{ref}}{N_{ref}}$"
     ]
    },
    {
     "cell_type": "code",
     "collapsed": false,
     "input": [
      "# calculates the gaussian kernel\n",
      "def rotationally_symmetric_gaussian(shape, sigma):\n",
      "    siz = (np.asarray(shape) - 1.0) / 2.0\n",
      "    std = sigma\n",
      "\n",
      "    [x, y] = np.meshgrid(np.r_[-siz[1]:siz[1] + 1],\n",
      "                         np.r_[-siz[0]:siz[0] + 1])\n",
      "\n",
      "    arg = -(x * x + y * y) / (2.0 * std * std)\n",
      "    eps = np.finfo(float).eps\n",
      "\n",
      "    h = np.exp(arg)\n",
      "    h[h < eps * np.max(h)] = 0\n",
      "\n",
      "    sumh = np.sum(h)\n",
      "    if sumh != 0:\n",
      "        h = h / sumh\n",
      "    return h"
     ],
     "language": "python",
     "metadata": {},
     "outputs": [],
     "prompt_number": 14
    },
    {
     "cell_type": "code",
     "collapsed": false,
     "input": [
      "# converts the relative coordinates of the kernel to actual coordinates\n",
      "def stencil_to_indices(y, x, stencil_size, image_shape):\n",
      "    empty_stencil = np.zeros([stencil_size, stencil_size])\n",
      "    \n",
      "    half_stencil_width = int((stencil_size - 1.0) / 2.0)\n",
      "    offset_range = range(-half_stencil_width, half_stencil_width + 1)\n",
      "    offsets = np.asarray([zip(offset_range, [o] * len(offset_range)) for o in offset_range])\n",
      "    \n",
      "    stencil_indices = np.indices([stencil_size, stencil_size]).reshape([2, -1]).T\n",
      "    \n",
      "    for row, col in stencil_indices:\n",
      "        empty_stencil[row, col] = (y + offsets[row, col, 1]) * image_shape[1] + (x + offsets[row, col, 0])\n",
      "    \n",
      "    return empty_stencil"
     ],
     "language": "python",
     "metadata": {},
     "outputs": [],
     "prompt_number": 15
    },
    {
     "cell_type": "code",
     "collapsed": false,
     "input": [
      "# calculates the p and q from depth \n",
      "from scipy import sparse\n",
      "from scipy.sparse import coo_matrix\n",
      "from scipy.sparse.linalg import splu\n",
      "from scipy.ndimage import convolve\n",
      "\n",
      "def gradient_from_depth(Z):\n",
      "    shape = Z.shape\n",
      "    p = np.zeros_like(Z)\n",
      "    q = np.zeros_like(Z)\n",
      "    for y in range(shape[0]-1):\n",
      "        for x in range(shape[1]-1):\n",
      "            p[y][x] = Z[y][x+1] - Z[y][x]\n",
      "            q[y][x] = Z[y+1][x] - Z[y][x]\n",
      "    return [p,q]"
     ],
     "language": "python",
     "metadata": {},
     "outputs": [],
     "prompt_number": 16
    },
    {
     "cell_type": "code",
     "collapsed": false,
     "input": [
      "# converts coordinates to relative index for vector notation\n",
      "def row_to_matrix_indices(shape,index):\n",
      "    x = index % shape[0]\n",
      "    y = (index - x) / shape[0]\n",
      "    return [y,x]\n",
      "\n",
      "# sparse d-matrix to construct efficiently D1 and D2\n",
      "def sparse_D(shape,gap):\n",
      "    h,w = shape\n",
      "    F = h*w\n",
      "    I = []\n",
      "    J = []\n",
      "    V = []    \n",
      "    for i in range(F):\n",
      "        I.append(i)\n",
      "        J.append(i)\n",
      "        V.append(-1)\n",
      "        y0,x0 = row_to_matrix_indices((h,w),i)\n",
      "        y1,x1 = row_to_matrix_indices((h,w),i+gap)\n",
      "        dist = np.linalg.norm(np.array([y0,x0])-np.array([y1,x1]))\n",
      "        if dist <= 1 and i+gap < F:\n",
      "            I.append(i)\n",
      "            J.append(i+gap)\n",
      "            V.append(1)\n",
      "    D = sparse.csc_matrix((V,(I,J)),(F,F))\n",
      "    return D\n",
      "# Sparse Matrix for filtering\n",
      "def sparse_gaussian(shape,kernel):\n",
      "    h,w = shape\n",
      "    F = h*w\n",
      "    I = []\n",
      "    J = []\n",
      "    V = []   \n",
      "    for index in range(F):\n",
      "        y,x = row_to_matrix_indices((h,w),index)\n",
      "        neighbours = stencil_to_indices(y, x,3,(h,w))\n",
      "        for i in range(3):\n",
      "            for j in range(3):\n",
      "                if neighbours[i,j] >= 0 and neighbours[i,j] <F:\n",
      "                    yn,xn = row_to_matrix_indices((h,w),neighbours[i,j])\n",
      "                    dist = np.sqrt((yn-y)**2 + (xn-x)**2)\n",
      "                    if dist < np.sqrt(kernel.shape[0]):\n",
      "                        I.append(index)\n",
      "                        J.append(neighbours[i,j])\n",
      "                        V.append(kernel[i,j])\n",
      "    D = sparse.csc_matrix((V,(I,J)),(F,F))\n",
      "    return D\n",
      "# Sparse Identity Matrix\n",
      "def sparse_eye(F):\n",
      "    V = []\n",
      "    I = []\n",
      "    J = []\n",
      "    for i in range(F):\n",
      "        V.append(1)\n",
      "        I.append(i)\n",
      "        J.append(i)\n",
      "    return sparse.csc_matrix((V,(I,J)),(F,F))"
     ],
     "language": "python",
     "metadata": {},
     "outputs": [],
     "prompt_number": 17
    },
    {
     "cell_type": "code",
     "collapsed": false,
     "input": [
      "def estimate_depth(image, normals, depth, albedo, light_harmonics, stencil_size=3, lambda1=100):\n",
      "    a0 = np.pi\n",
      "    a1 = 2.0 * np.pi / np.sqrt(3.0)\n",
      "    [l0,l1,l2,l3] = [float(l) for l in light_harmonics]\n",
      "    [l0,l1,l2,l3] = [1/a0*l0,1/a1*l1,1/a1*l2,1/a1*l3]\n",
      "    [p,q] = gradient_from_depth(depth)\n",
      "    (h,w,_) = image.pixels.shape\n",
      "    I = image.pixels.ravel()\n",
      "    Pref = albedo.pixels.ravel()\n",
      "    Zref = depth.ravel()\n",
      "    Nref = np.sqrt(p*p+q*q+1).ravel()\n",
      "    C = Pref/Nref\n",
      "    b = (I - l0*Pref + l3*Pref/Nref)/C\n",
      "    D1 = sparse_D((h,w),1)\n",
      "    D2 = sparse_D((h,w),w)\n",
      "    B = l1*D1 + l2*D2\n",
      "    BTB = B.T.dot(B)\n",
      "    \n",
      "    kernel = rotationally_symmetric_gaussian((3,3),20)\n",
      "    eye = sparse_eye(h*w)\n",
      "    G = sparse_gaussian((h,w),kernel)\n",
      "    D = lambda1*(eye - G)\n",
      "    \n",
      "    DTD = D.T.dot(D)\n",
      "    \n",
      "    d = D.dot(Zref)\n",
      "    \n",
      "\n",
      "    Z = sparse.linalg.splu(BTB + DTD).solve(B.T.dot(b) + D.T.dot(d))\n",
      "    return Z.reshape((h,w))\n"
     ],
     "language": "python",
     "metadata": {},
     "outputs": [],
     "prompt_number": 18
    },
    {
     "cell_type": "code",
     "collapsed": false,
     "input": [
      "Z = estimate_depth(im0, 0, depth_mean.pixels[..., 0], albedo_mean, recovered_harmonics, lambda1=200)"
     ],
     "language": "python",
     "metadata": {},
     "outputs": []
    },
    {
     "cell_type": "code",
     "collapsed": false,
     "input": [
      "%matplotlib inline\n",
      "plt.imshow(Z)\n",
      "plt.gray()\n",
      "plt.axis('off')\n",
      "plt.show()"
     ],
     "language": "python",
     "metadata": {},
     "outputs": [
      {
       "metadata": {},
       "output_type": "display_data",
       "png": "[encoded data removed]",
       "text": [
        "<matplotlib.figure.Figure at 0x11a836550>"
       ]
      }
     ],
     "prompt_number": 22
    },
    {
     "cell_type": "heading",
     "level": 2,
     "metadata": {},
     "source": [
      "Let's see the recovered shape with the image applied as a texture"
     ]
    },
    {
     "cell_type": "code",
     "collapsed": false,
     "input": [
      "%matplotlib qt\n",
      "ys = np.linspace(0, im0.shape[0], im0.shape[0])\n",
      "xs = np.linspace(0, \n",
      "                 im0.shape[1], im0.shape[1])\n",
      "X, Y = np.meshgrid(xs, ys)\n",
      "mlab.mesh(X, Y, Z*3, scalars=im0.pixels[..., 0], colormap='gray')\n",
      "scr_shot = mlab.screenshot()"
     ],
     "language": "python",
     "metadata": {},
     "outputs": [],
     "prompt_number": 23
    },
    {
     "cell_type": "code",
     "collapsed": false,
     "input": [
      "%matplotlib inline\n",
      "plt.imshow(scr_shot)\n",
      "plt.gray()\n",
      "plt.axis('off')\n",
      "plt.show()"
     ],
     "language": "python",
     "metadata": {},
     "outputs": [
      {
       "metadata": {},
       "output_type": "display_data",
       "png": "[encoded data removed]",
       "text": [
        "<matplotlib.figure.Figure at 0x1246e74d0>"
       ]
      }
     ],
     "prompt_number": 24
    },
    {
     "cell_type": "heading",
     "level": 2,
     "metadata": {},
     "source": [
      "Let's see the PS recovered shape with the image applied as a texture"
     ]
    },
    {
     "cell_type": "code",
     "collapsed": false,
     "input": [
      "%matplotlib qt\n",
      "ys = np.linspace(0, im0.shape[0], im0.shape[0])\n",
      "xs = np.linspace(0, \n",
      "                 im0.shape[1], im0.shape[1])\n",
      "X, Y = np.meshgrid(xs, ys)\n",
      "mlab.mesh(X, Y, gt_Z*8, scalars=im0.pixels[..., 0], colormap='gray')\n",
      "scr_shot = mlab.screenshot()"
     ],
     "language": "python",
     "metadata": {},
     "outputs": [],
     "prompt_number": 25
    },
    {
     "cell_type": "code",
     "collapsed": false,
     "input": [
      "%matplotlib inline\n",
      "plt.imshow(scr_shot)\n",
      "plt.gray()\n",
      "plt.axis('off')\n",
      "plt.show()"
     ],
     "language": "python",
     "metadata": {},
     "outputs": [
      {
       "metadata": {},
       "output_type": "display_data",
       "png": "[encoded data removed]",
       "text": [
        "<matplotlib.figure.Figure at 0x12429bfd0>"
       ]
      }
     ],
     "prompt_number": 26
    }
   ],
   "metadata": {}
  }
 ]
}